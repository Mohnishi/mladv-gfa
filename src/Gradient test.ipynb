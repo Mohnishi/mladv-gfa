{
 "cells": [
  {
   "cell_type": "code",
   "execution_count": 13,
   "metadata": {
    "collapsed": false
   },
   "outputs": [
    {
     "data": {
      "text/plain": [
       "<module 'gfa' from '/home/axelri/Projects/mladv-gfa/src/gfa.py'>"
      ]
     },
     "execution_count": 13,
     "metadata": {},
     "output_type": "execute_result"
    }
   ],
   "source": [
    "import importlib\n",
    "import gfa\n",
    "importlib.reload(gfa)"
   ]
  },
  {
   "cell_type": "code",
   "execution_count": 19,
   "metadata": {
    "collapsed": false
   },
   "outputs": [],
   "source": [
    "import numpy as np\n",
    "dims = 10\n",
    "samples = 10000\n",
    "X = np.random.randn(dims, samples)\n",
    "D = np.array([2,4,4])"
   ]
  },
  {
   "cell_type": "code",
   "execution_count": 20,
   "metadata": {
    "collapsed": false
   },
   "outputs": [
    {
     "name": "stdout",
     "output_type": "stream",
     "text": [
      "Lower bound at iteration 1: -35633.50202763584\n",
      "Lower bound at iteration 10: -35627.41146960248\n",
      "Lower bound at iteration 20: -35625.81439511156\n",
      "Lower bound at iteration 30: -35625.10842707644\n",
      "Lower bound at iteration 40: -35624.70738442872\n",
      "Lower bound at iteration 50: -35624.448099141504\n",
      "Lower bound at iteration 60: -35624.266480087244\n",
      "Lower bound at iteration 70: -35624.13209432154\n",
      "Successful fit\n",
      "Took 77 iterations\n",
      "Maximal lower bound: -35624.05706263559\n"
     ]
    }
   ],
   "source": [
    "g = gfa.GFA(optimize_method=\"bfgs\", debug=True)\n",
    "g.fit(X,D)"
   ]
  },
  {
   "cell_type": "code",
   "execution_count": 21,
   "metadata": {
    "collapsed": false
   },
   "outputs": [
    {
     "name": "stdout",
     "output_type": "stream",
     "text": [
      "W\n",
      "[[  1.91851916e-125  -2.46308469e-125   2.91299494e-124   1.20425097e-124\n",
      "    1.46390944e-124   2.77912252e-124   1.63689868e-124   1.42203364e-124\n",
      "   -1.07200922e-124  -2.50934728e-125]\n",
      " [  9.72170771e-123  -1.20664049e-122  -6.19150615e-122   3.59488452e-122\n",
      "    2.16747046e-122  -4.31960152e-122  -1.33159388e-122   5.70966402e-123\n",
      "    4.76665485e-122  -2.16093447e-122]\n",
      " [ -1.37362849e-132  -3.05030543e-133   4.48891691e-132  -6.51209467e-132\n",
      "    1.45799044e-132   6.27008850e-132   4.51213075e-132   1.13450980e-132\n",
      "   -6.39575517e-132  -1.93025804e-132]\n",
      " [  1.15181277e-123  -2.24717026e-123  -5.17543064e-123   3.28191934e-123\n",
      "    5.59742992e-123  -1.56894881e-123   3.79082417e-124   2.80331272e-123\n",
      "    3.21141758e-123  -3.42308668e-123]\n",
      " [ -3.92647737e-121   4.56024518e-121   1.60584857e-120  -1.71294610e-120\n",
      "   -9.92437056e-121   9.70263638e-121   1.03604526e-121  -4.40286974e-121\n",
      "   -1.59745928e-120   8.76662849e-121]\n",
      " [  3.41186075e-131  -9.88190848e-131   1.01110202e-130   1.76340653e-130\n",
      "    3.60904133e-130   3.45780107e-130   2.09422804e-130   2.03875146e-130\n",
      "   -5.71743834e-131  -1.86154368e-130]\n",
      " [  3.32640317e-121  -5.19253225e-121  -7.16894603e-121   8.62492456e-121\n",
      "    1.15000146e-120  -4.93669411e-121   7.82836647e-122   8.97215439e-121\n",
      "    6.85862896e-121  -5.43499288e-121]]\n",
      "\n",
      "Z\n",
      "[[  2.87242381e-125   6.50028720e-124  -1.02674122e-123 ...,\n",
      "   -2.01011279e-124  -6.53535727e-124   4.04694779e-124]\n",
      " [  1.36379146e-121  -2.04266404e-121  -3.41986784e-122 ...,\n",
      "    9.22121331e-123   1.61125874e-121  -7.70941642e-122]\n",
      " [ -4.44303139e-132   2.32432768e-131   7.00242015e-132 ...,\n",
      "    2.16460244e-132  -9.48332076e-132   1.59868087e-131]\n",
      " ..., \n",
      " [ -5.06616359e-120   6.03239843e-120   3.79720800e-120 ...,\n",
      "    4.11590456e-121  -4.42393781e-120   2.30732657e-120]\n",
      " [  7.81120219e-130   3.15908449e-130  -1.15695160e-129 ...,\n",
      "   -2.44796326e-130  -2.80298244e-130   6.97849961e-130]\n",
      " [  3.15589337e-120  -3.35062142e-120  -3.16026116e-120 ...,\n",
      "    7.21954098e-121   2.46972202e-120  -3.04290544e-121]]\n"
     ]
    }
   ],
   "source": [
    "print(\"W\")\n",
    "print(g.get_W())\n",
    "print()\n",
    "\n",
    "print(\"Z\")\n",
    "print(g.get_Z())"
   ]
  },
  {
   "cell_type": "code",
   "execution_count": 87,
   "metadata": {
    "collapsed": false
   },
   "outputs": [
    {
     "name": "stdout",
     "output_type": "stream",
     "text": [
      "(3, 7)\n"
     ]
    },
    {
     "data": {
      "text/plain": [
       "1131.8821521319389"
      ]
     },
     "execution_count": 87,
     "metadata": {},
     "output_type": "execute_result"
    }
   ],
   "source": [
    "D = g.D\n",
    "A = np.sum(np.log(g.alpha), axis=1)\n",
    "print(g.alpha.shape)\n",
    "D @ A"
   ]
  },
  {
   "cell_type": "code",
   "execution_count": 86,
   "metadata": {
    "collapsed": false
   },
   "outputs": [
    {
     "name": "stdout",
     "output_type": "stream",
     "text": [
      "Optimization terminated successfully.\n",
      "         Current function value: -427.411494\n",
      "         Iterations: 0\n",
      "         Function evaluations: 1\n",
      "         Gradient evaluations: 1\n"
     ]
    }
   ],
   "source": [
    "res = g.update_alpha()"
   ]
  },
  {
   "cell_type": "code",
   "execution_count": 87,
   "metadata": {
    "collapsed": false
   },
   "outputs": [
    {
     "data": {
      "text/plain": [
       "      fun: -427.41149448998397\n",
       " hess_inv: array([[1, 0, 0, ..., 0, 0, 0],\n",
       "       [0, 1, 0, ..., 0, 0, 0],\n",
       "       [0, 0, 1, ..., 0, 0, 0],\n",
       "       ..., \n",
       "       [0, 0, 0, ..., 1, 0, 0],\n",
       "       [0, 0, 0, ..., 0, 1, 0],\n",
       "       [0, 0, 0, ..., 0, 0, 1]])\n",
       "      jac: array([ -3.09056782e-06,   2.56430202e-06,   3.86062623e-06,\n",
       "         4.47362617e-06,  -5.32187891e-07,  -3.80221352e-06,\n",
       "        -2.95995497e-06,   8.38799996e-06,   2.61741521e-06,\n",
       "         3.40465815e-06,   7.44224015e-06,  -5.63720302e-06,\n",
       "        -4.17970331e-06,   1.37891191e-06,  -1.72515289e-06,\n",
       "         1.99115085e-06,  -4.46126852e-07,   8.02442231e-07,\n",
       "        -1.06192337e-07,  -1.02157067e-06,   1.20789822e-06,\n",
       "         6.34804105e-07,   1.86639970e-06,  -1.32623249e-06,\n",
       "        -9.53241301e-06,   3.31434263e-06,  -8.26588606e-06,\n",
       "        -6.26252337e-07,   9.87017248e-07,   7.78327563e-07,\n",
       "         2.84787502e-06,  -3.47850567e-07,   4.11223860e-06,\n",
       "        -9.41092537e-07,   3.26135105e-06,  -2.18078314e-06,\n",
       "         9.35764749e-06,  -4.97087974e-06,   3.10306166e-06,\n",
       "        -2.65247508e-06,   2.31419143e-06,  -7.32976664e-07,\n",
       "        -1.11352365e-06,   1.16939350e-06,   2.66055710e-07,\n",
       "         1.54925218e-06,  -1.33404636e-06,   2.05408636e-06,\n",
       "        -1.69456645e-07,  -3.06759362e-06])\n",
       "  message: 'Optimization terminated successfully.'\n",
       "     nfev: 1\n",
       "      nit: 0\n",
       "     njev: 1\n",
       "   status: 0\n",
       "  success: True\n",
       "        x: array([  0.04903711,   1.49887327,  -0.21518343,  -4.43228746,\n",
       "        -2.02894983,  -1.22065559,  -3.46062434,   3.36064876,\n",
       "         1.97987472,  -0.27817719,   3.67583628,   1.07165173,\n",
       "         0.99454777,   0.14297987,   1.78901976,  -0.29881672,\n",
       "         0.19461312,   0.13624848,   0.32805071,  -0.37908155,\n",
       "        -1.51758078,  -0.75268766,  -2.62105741,   2.03887713,\n",
       "        -1.55782018,  -0.79159751,  -2.68660083,   2.14915933,\n",
       "         1.4630743 ,  -0.48444511,   2.77305216,   1.61772633,\n",
       "         0.0502873 ,   1.51375417,  -0.21600461,  -4.47629707,\n",
       "         0.37289958,   0.235711  ,   0.63357059,  -0.65148995,\n",
       "         5.12597138,  16.05692148,   5.40870371,  -1.66008264,\n",
       "        -1.67057782,   9.80940084,  10.22985343,   7.65377154,\n",
       "         5.31797223,  -3.08874101])"
      ]
     },
     "execution_count": 87,
     "metadata": {},
     "output_type": "execute_result"
    }
   ],
   "source": [
    "# optimizer messages\n",
    "res"
   ]
  }
 ],
 "metadata": {
  "anaconda-cloud": {},
  "kernelspec": {
   "display_name": "Python [default]",
   "language": "python",
   "name": "python3"
  },
  "language_info": {
   "codemirror_mode": {
    "name": "ipython",
    "version": 3
   },
   "file_extension": ".py",
   "mimetype": "text/x-python",
   "name": "python",
   "nbconvert_exporter": "python",
   "pygments_lexer": "ipython3",
   "version": "3.5.2"
  }
 },
 "nbformat": 4,
 "nbformat_minor": 0
}
