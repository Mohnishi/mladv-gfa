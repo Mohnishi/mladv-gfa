{
 "cells": [
  {
   "cell_type": "code",
   "execution_count": 132,
   "metadata": {
    "collapsed": false
   },
   "outputs": [
    {
     "data": {
      "text/plain": [
       "<module 'gfa' from '/Users/axelri/Dropbox/kth/aml/project/src/gfa.py'>"
      ]
     },
     "execution_count": 132,
     "metadata": {},
     "output_type": "execute_result"
    }
   ],
   "source": [
    "import importlib\n",
    "import gfa\n",
    "importlib.reload(gfa)"
   ]
  },
  {
   "cell_type": "code",
   "execution_count": 133,
   "metadata": {
    "collapsed": false
   },
   "outputs": [],
   "source": [
    "import numpy as np\n",
    "dims = 10\n",
    "samples = 100\n",
    "X = np.random.randn(dims, samples)\n",
    "D = np.array([2,4,4])"
   ]
  },
  {
   "cell_type": "code",
   "execution_count": 134,
   "metadata": {
    "collapsed": false
   },
   "outputs": [
    {
     "name": "stdout",
     "output_type": "stream",
     "text": [
      "Successful fit\n",
      "130 iterations\n",
      "Maximal lower bound: -314.0794781026724\n"
     ]
    }
   ],
   "source": [
    "g = gfa.GFA(optimize_method=\"bfgs\", debug=True)\n",
    "g.fit(X,D)"
   ]
  },
  {
   "cell_type": "code",
   "execution_count": 87,
   "metadata": {
    "collapsed": false
   },
   "outputs": [
    {
     "name": "stdout",
     "output_type": "stream",
     "text": [
      "(3, 7)\n"
     ]
    },
    {
     "data": {
      "text/plain": [
       "1131.8821521319389"
      ]
     },
     "execution_count": 87,
     "metadata": {},
     "output_type": "execute_result"
    }
   ],
   "source": [
    "D = g.D\n",
    "A = np.sum(np.log(g.alpha), axis=1)\n",
    "print(g.alpha.shape)\n",
    "D @ A"
   ]
  },
  {
   "cell_type": "code",
   "execution_count": 86,
   "metadata": {
    "collapsed": false
   },
   "outputs": [
    {
     "name": "stdout",
     "output_type": "stream",
     "text": [
      "Optimization terminated successfully.\n",
      "         Current function value: -427.411494\n",
      "         Iterations: 0\n",
      "         Function evaluations: 1\n",
      "         Gradient evaluations: 1\n"
     ]
    }
   ],
   "source": [
    "res = g.update_alpha()"
   ]
  },
  {
   "cell_type": "code",
   "execution_count": 87,
   "metadata": {
    "collapsed": false
   },
   "outputs": [
    {
     "data": {
      "text/plain": [
       "      fun: -427.41149448998397\n",
       " hess_inv: array([[1, 0, 0, ..., 0, 0, 0],\n",
       "       [0, 1, 0, ..., 0, 0, 0],\n",
       "       [0, 0, 1, ..., 0, 0, 0],\n",
       "       ..., \n",
       "       [0, 0, 0, ..., 1, 0, 0],\n",
       "       [0, 0, 0, ..., 0, 1, 0],\n",
       "       [0, 0, 0, ..., 0, 0, 1]])\n",
       "      jac: array([ -3.09056782e-06,   2.56430202e-06,   3.86062623e-06,\n",
       "         4.47362617e-06,  -5.32187891e-07,  -3.80221352e-06,\n",
       "        -2.95995497e-06,   8.38799996e-06,   2.61741521e-06,\n",
       "         3.40465815e-06,   7.44224015e-06,  -5.63720302e-06,\n",
       "        -4.17970331e-06,   1.37891191e-06,  -1.72515289e-06,\n",
       "         1.99115085e-06,  -4.46126852e-07,   8.02442231e-07,\n",
       "        -1.06192337e-07,  -1.02157067e-06,   1.20789822e-06,\n",
       "         6.34804105e-07,   1.86639970e-06,  -1.32623249e-06,\n",
       "        -9.53241301e-06,   3.31434263e-06,  -8.26588606e-06,\n",
       "        -6.26252337e-07,   9.87017248e-07,   7.78327563e-07,\n",
       "         2.84787502e-06,  -3.47850567e-07,   4.11223860e-06,\n",
       "        -9.41092537e-07,   3.26135105e-06,  -2.18078314e-06,\n",
       "         9.35764749e-06,  -4.97087974e-06,   3.10306166e-06,\n",
       "        -2.65247508e-06,   2.31419143e-06,  -7.32976664e-07,\n",
       "        -1.11352365e-06,   1.16939350e-06,   2.66055710e-07,\n",
       "         1.54925218e-06,  -1.33404636e-06,   2.05408636e-06,\n",
       "        -1.69456645e-07,  -3.06759362e-06])\n",
       "  message: 'Optimization terminated successfully.'\n",
       "     nfev: 1\n",
       "      nit: 0\n",
       "     njev: 1\n",
       "   status: 0\n",
       "  success: True\n",
       "        x: array([  0.04903711,   1.49887327,  -0.21518343,  -4.43228746,\n",
       "        -2.02894983,  -1.22065559,  -3.46062434,   3.36064876,\n",
       "         1.97987472,  -0.27817719,   3.67583628,   1.07165173,\n",
       "         0.99454777,   0.14297987,   1.78901976,  -0.29881672,\n",
       "         0.19461312,   0.13624848,   0.32805071,  -0.37908155,\n",
       "        -1.51758078,  -0.75268766,  -2.62105741,   2.03887713,\n",
       "        -1.55782018,  -0.79159751,  -2.68660083,   2.14915933,\n",
       "         1.4630743 ,  -0.48444511,   2.77305216,   1.61772633,\n",
       "         0.0502873 ,   1.51375417,  -0.21600461,  -4.47629707,\n",
       "         0.37289958,   0.235711  ,   0.63357059,  -0.65148995,\n",
       "         5.12597138,  16.05692148,   5.40870371,  -1.66008264,\n",
       "        -1.67057782,   9.80940084,  10.22985343,   7.65377154,\n",
       "         5.31797223,  -3.08874101])"
      ]
     },
     "execution_count": 87,
     "metadata": {},
     "output_type": "execute_result"
    }
   ],
   "source": [
    "# optimizer messages\n",
    "res"
   ]
  }
 ],
 "metadata": {
  "kernelspec": {
   "display_name": "Python 3",
   "language": "python",
   "name": "python3"
  },
  "language_info": {
   "codemirror_mode": {
    "name": "ipython",
    "version": 3
   },
   "file_extension": ".py",
   "mimetype": "text/x-python",
   "name": "python",
   "nbconvert_exporter": "python",
   "pygments_lexer": "ipython3",
   "version": "3.5.2"
  }
 },
 "nbformat": 4,
 "nbformat_minor": 0
}
