{
 "cells": [
  {
   "cell_type": "code",
   "execution_count": 9,
   "metadata": {
    "collapsed": false
   },
   "outputs": [
    {
     "data": {
      "text/plain": [
       "<module 'gfa' from '/Users/axelri/Dropbox/kth/aml/project/src/gfa.py'>"
      ]
     },
     "execution_count": 9,
     "metadata": {},
     "output_type": "execute_result"
    }
   ],
   "source": [
    "import importlib\n",
    "import gfa\n",
    "importlib.reload(gfa)"
   ]
  },
  {
   "cell_type": "code",
   "execution_count": 10,
   "metadata": {
    "collapsed": false
   },
   "outputs": [],
   "source": [
    "import numpy as np\n",
    "dims = 10\n",
    "samples = 100\n",
    "X = np.random.randn(dims, samples)\n",
    "D = np.array([3,4,3])"
   ]
  },
  {
   "cell_type": "code",
   "execution_count": 11,
   "metadata": {
    "collapsed": false
   },
   "outputs": [
    {
     "name": "stdout",
     "output_type": "stream",
     "text": [
      "Warning: Desired error not necessarily achieved due to precision loss.\n",
      "         Current function value: 214.589578\n",
      "         Iterations: 0\n",
      "         Function evaluations: 43\n",
      "         Gradient evaluations: 31\n"
     ]
    },
    {
     "name": "stderr",
     "output_type": "stream",
     "text": [
      "/Users/axelri/Dropbox/kth/aml/project/src/gfa.py:121: RuntimeWarning: overflow encountered in exp\n",
      "  alpha = np.exp(ln_alpha)\n",
      "/Users/axelri/Dropbox/kth/aml/project/src/gfa.py:98: RuntimeWarning: overflow encountered in exp\n",
      "  return np.exp(self.ln_alpha(U, V, mu_u, mu_v))\n",
      "/Users/axelri/Dropbox/kth/aml/project/src/gfa.py:121: RuntimeWarning: overflow encountered in exp\n",
      "  alpha = np.exp(ln_alpha)\n"
     ]
    }
   ],
   "source": [
    "g = gfa.GFA(optimize_method=\"BFGS\")\n",
    "g.fit(X,D)"
   ]
  },
  {
   "cell_type": "code",
   "execution_count": 12,
   "metadata": {
    "collapsed": false
   },
   "outputs": [
    {
     "name": "stdout",
     "output_type": "stream",
     "text": [
      "Warning: Desired error not necessarily achieved due to precision loss.\n",
      "         Current function value: 216.890037\n",
      "         Iterations: 0\n",
      "         Function evaluations: 43\n",
      "         Gradient evaluations: 31\n"
     ]
    },
    {
     "name": "stderr",
     "output_type": "stream",
     "text": [
      "/Users/axelri/Dropbox/kth/aml/project/src/gfa.py:121: RuntimeWarning: overflow encountered in exp\n",
      "  alpha = np.exp(ln_alpha)\n",
      "/Users/axelri/Dropbox/kth/aml/project/src/gfa.py:98: RuntimeWarning: overflow encountered in exp\n",
      "  return np.exp(self.ln_alpha(U, V, mu_u, mu_v))\n",
      "/Users/axelri/Dropbox/kth/aml/project/src/gfa.py:121: RuntimeWarning: overflow encountered in exp\n",
      "  alpha = np.exp(ln_alpha)\n"
     ]
    },
    {
     "data": {
      "text/plain": [
       "      fun: 216.89003723572387\n",
       " hess_inv: array([[1, 0, 0, ..., 0, 0, 0],\n",
       "       [0, 1, 0, ..., 0, 0, 0],\n",
       "       [0, 0, 1, ..., 0, 0, 0],\n",
       "       ..., \n",
       "       [0, 0, 0, ..., 1, 0, 0],\n",
       "       [0, 0, 0, ..., 0, 1, 0],\n",
       "       [0, 0, 0, ..., 0, 0, 1]])\n",
       "      jac: array([ -8.11153359e+02,  -1.73263195e+02,  -3.28372081e+03,\n",
       "        -1.47677857e+03,   1.18782150e+12,   4.58609002e+11,\n",
       "         7.14392921e+12,   5.23388609e+11,  -1.69858845e+14,\n",
       "         5.06432438e+14,  -1.86866611e+14,   2.06706267e+14,\n",
       "        -2.00174642e+13,   3.72228737e+14,  -4.16223402e+13,\n",
       "         4.64852291e+14,   4.01793704e+12,   2.13214520e+12,\n",
       "         4.35068534e+12,   3.87052057e+12,   7.11592530e+02,\n",
       "         3.68485448e+02,   7.72346728e+02,   6.67273736e+02,\n",
       "        -3.51211380e+02,  -6.24494785e+02,  -5.76908567e+02,\n",
       "         1.75014214e+02,  -7.81959502e+01,  -1.35107159e+02,\n",
       "        -1.21581231e+02,   1.14967894e+01,  -1.14898568e+02,\n",
       "        -2.00773446e+02,  -1.82665087e+02,   3.35577364e+01,\n",
       "        -2.06000378e+02,   1.62419672e+03,  -3.74243672e+02,\n",
       "         2.29381107e+03,   7.73968551e+02,   1.18229317e+12,\n",
       "         9.58504631e+13,   9.58504631e+13,   1.18229317e+12,\n",
       "         2.02570562e+02,   4.34150606e+02,   7.80169877e+01,\n",
       "         1.25670141e+02,   5.84070757e+02])\n",
       "  message: 'Desired error not necessarily achieved due to precision loss.'\n",
       "     nfev: 43\n",
       "      nit: 0\n",
       "     njev: 31\n",
       "   status: 2\n",
       "  success: False\n",
       "        x: array([-0.76753648, -1.37266245, -1.27834884,  0.45875628,  3.39842701,\n",
       "        1.80339806,  3.67987016,  3.27374012, -0.20884056,  3.88343181,\n",
       "       -0.43424245,  4.84976572, -1.77212336,  5.28356798, -1.94956399,\n",
       "        2.15654949,  1.00467594,  0.38789787,  6.04243466,  0.44268936,\n",
       "        1.47513565,  1.17289868,  3.02537118, -3.9410716 , -3.54653619,\n",
       "        0.83201321, -4.52042255, -2.75208701,  2.36947868, -2.54148163,\n",
       "       -2.05178223,  0.40104465,  1.0220882 , -2.01761588, -3.50387271,\n",
       "       -3.38733385,  3.37384243, -0.29651497, -5.06806554,  1.19624965,\n",
       "        0.        ,  0.        ,  0.        ,  0.        ,  0.        ,\n",
       "        0.        ,  0.        ,  0.        ,  0.        ,  0.        ])"
      ]
     },
     "execution_count": 12,
     "metadata": {},
     "output_type": "execute_result"
    }
   ],
   "source": [
    "g.update_W()\n",
    "res = g.update_alpha()\n",
    "res"
   ]
  },
  {
   "cell_type": "code",
   "execution_count": null,
   "metadata": {
    "collapsed": true
   },
   "outputs": [],
   "source": []
  }
 ],
 "metadata": {
  "kernelspec": {
   "display_name": "Python 3",
   "language": "python",
   "name": "python3"
  },
  "language_info": {
   "codemirror_mode": {
    "name": "ipython",
    "version": 3
   },
   "file_extension": ".py",
   "mimetype": "text/x-python",
   "name": "python",
   "nbconvert_exporter": "python",
   "pygments_lexer": "ipython3",
   "version": "3.5.2"
  }
 },
 "nbformat": 4,
 "nbformat_minor": 0
}
